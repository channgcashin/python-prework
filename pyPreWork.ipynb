{
 "cells": [
  {
   "cell_type": "code",
   "execution_count": 1,
   "id": "58d495a6",
   "metadata": {},
   "outputs": [
    {
     "name": "stdout",
     "output_type": "stream",
     "text": [
      "a A  A  A\n"
     ]
    }
   ],
   "source": [
    "phrase = \" A \"\n",
    "newPhrase = phrase.lower().rstrip() + phrase * 3\n",
    "newPhrase = newPhrase.strip()\n",
    "print(newPhrase)"
   ]
  },
  {
   "cell_type": "code",
   "execution_count": 2,
   "id": "a1a8e34e",
   "metadata": {},
   "outputs": [
    {
     "name": "stdout",
     "output_type": "stream",
     "text": [
      "<class 'str'>\n"
     ]
    }
   ],
   "source": [
    "num1 = 1\n",
    "num2 = \"2\"\n",
    "quotient = str(num1) + num2\n",
    "print(type(quotient))"
   ]
  },
  {
   "cell_type": "code",
   "execution_count": 3,
   "id": "4beef8ab",
   "metadata": {},
   "outputs": [
    {
     "name": "stdout",
     "output_type": "stream",
     "text": [
      "STORERunstosteve\n"
     ]
    }
   ],
   "source": [
    "name = \"Steve\"\n",
    "verb = \"runs\"\n",
    "prep = \"to\"\n",
    "dire = \"store\"\n",
    "print(dire.upper() + verb.title() + prep.lower() + name.lower())"
   ]
  },
  {
   "cell_type": "code",
   "execution_count": null,
   "id": "f516a286",
   "metadata": {},
   "outputs": [],
   "source": [
    "myList = [1, 3.0, [\"a\", \"b\", [\"A\", \"B\", \"C\"], \"d\"], \"John\"]\n",
    "for mem in myList:\n",
    "    if isinstance(mem, list):\n",
    "        for m in mem:\n",
    "            if isinstance(m, list):\n",
    "                print(m, end = ' ')"
   ]
  },
  {
   "cell_type": "code",
   "execution_count": null,
   "id": "a25c213b",
   "metadata": {},
   "outputs": [],
   "source": [
    "deck = [\"chicken wing\", \"chicken wing\", \"hot dog\", \"bologna\", \"chicken\", \"macaroni\"]\n",
    "myS = \"\"\n",
    "for index in range(3):\n",
    "    print(deck[index], end=\" \") "
   ]
  },
  {
   "cell_type": "code",
   "execution_count": null,
   "id": "54374300",
   "metadata": {},
   "outputs": [],
   "source": [
    "deck = [\"chicken wing\", \"chicken wing\", \"hot dog\", \"bologna\", \"chicken\", \"macaroni\"]\n",
    "for index in deck:\n",
    "    print(index, end=' ')"
   ]
  },
  {
   "cell_type": "code",
   "execution_count": null,
   "id": "471c0224",
   "metadata": {},
   "outputs": [],
   "source": [
    "myList = [1, 3.0, [\"a\", \"b\", [\"A\", \"B\", \"C\"], \"d\"], \"John\"]\n",
    "print(myList[2][2][0])"
   ]
  },
  {
   "cell_type": "code",
   "execution_count": null,
   "id": "8bce8698",
   "metadata": {},
   "outputs": [],
   "source": [
    "deck = [\"chicken wing\", \"chicken wing\", \"hot dog\", \"bologna\", \"chicken\", \"macaroni\"]\n",
    "for food in deck:\n",
    "    if food == \"chicken wing\":\n",
    "        break\n",
    "    print(food, end=\" \")"
   ]
  },
  {
   "cell_type": "code",
   "execution_count": null,
   "id": "bf8bac8e",
   "metadata": {},
   "outputs": [],
   "source": [
    "num = 8\n",
    "if True:\n",
    "    print(\"Number is less than 8\")"
   ]
  },
  {
   "cell_type": "code",
   "execution_count": null,
   "id": "150ce895",
   "metadata": {},
   "outputs": [],
   "source": [
    "name = \"Destiny's Child\"\n",
    "if name == \"Destiny's Child\":\n",
    "    print(\"Say my name, say my name\", end=\" \")\n",
    "print(\"If no one is around you\", end=\" \")\n",
    "if name:\n",
    "    print(\"Say baby I love you\", end=\" \")\n",
    "else:\n",
    "    print(\"If you ain't running games\")"
   ]
  },
  {
   "cell_type": "code",
   "execution_count": null,
   "id": "ebab2043",
   "metadata": {},
   "outputs": [],
   "source": [
    "num = 5\n",
    "if num == 5:\n",
    "    print(\"yurr\")\n",
    "else:\n",
    "    print(\"nah\")\n",
    "elif:\n",
    "    print(\"may\")"
   ]
  },
  {
   "cell_type": "code",
   "execution_count": null,
   "id": "d29b58fc",
   "metadata": {},
   "outputs": [],
   "source": [
    "myDict = {\n",
    "    \"name\" : \"Steve\",\n",
    "    \"position\" : \"QB\",\n",
    "    \"team\" : \"Dallas Cows\",\n",
    "    \"age\" : 54,\n",
    "    \"weight\" : 220.,\n",
    "    \"superbowls\": [\"XVII\", \"XVIII\", \"XXX\"],\n",
    "    \"awards\" : {\n",
    "        \"years\" : [91, 92, 93, 94, 95, 96],\n",
    "        \"wins\" : 3\n",
    "    }\n",
    "}\n",
    "\n",
    "print(myDict.get(\"awards\", \"age\")[\"years\"][len(myDict[\"position\"])])"
   ]
  },
  {
   "cell_type": "code",
   "execution_count": 1,
   "id": "940e08e2",
   "metadata": {},
   "outputs": [
    {
     "name": "stdout",
     "output_type": "stream",
     "text": [
      "13 "
     ]
    }
   ],
   "source": [
    "age = 13\n",
    "while age > 10:\n",
    "    print(age, end = \" \")\n",
    "    if age == 13:\n",
    "        break\n",
    "    age+= 1"
   ]
  },
  {
   "cell_type": "code",
   "execution_count": null,
   "id": "61a9808d",
   "metadata": {},
   "outputs": [],
   "source": [
    "while False:\n",
    "    print(\"My\", end=\" \")\n",
    "    print(\"Name\", end=\" \")\n",
    "    print(\"is\", end=\" \")\n",
    "    continue\n",
    "    print(\"chika chika\", end=\" \")\n",
    "    break\n",
    "    print(\"Slim Shady\", end=\" \")"
   ]
  },
  {
   "cell_type": "code",
   "execution_count": 3,
   "id": "6776b4e3",
   "metadata": {},
   "outputs": [
    {
     "name": "stdout",
     "output_type": "stream",
     "text": [
      "15\n"
     ]
    }
   ],
   "source": [
    "num = 1\n",
    "new = 0\n",
    "while num < 10:\n",
    "    for i in range(3):\n",
    "        new += 1\n",
    "    num += 2\n",
    "print(new)"
   ]
  },
  {
   "cell_type": "code",
   "execution_count": 5,
   "id": "473efe1c",
   "metadata": {},
   "outputs": [
    {
     "name": "stdout",
     "output_type": "stream",
     "text": [
      "0 "
     ]
    }
   ],
   "source": [
    "i = 6\n",
    "while i <= 10:\n",
    "    for j in range(3):\n",
    "        i *= j+2\n",
    "        print(j, end=\" \")\n",
    "        break"
   ]
  },
  {
   "cell_type": "code",
   "execution_count": 15,
   "id": "56c4046e",
   "metadata": {},
   "outputs": [
    {
     "name": "stdout",
     "output_type": "stream",
     "text": [
      "Always word\n"
     ]
    }
   ],
   "source": [
    "def blue_fairy():\n",
    "    return \"Always word\"\n",
    "print(blue_fairy())"
   ]
  },
  {
   "cell_type": "code",
   "execution_count": 31,
   "id": "3952df9f",
   "metadata": {},
   "outputs": [
    {
     "ename": "TypeError",
     "evalue": "raf() missing 1 required positional argument: 'lion'",
     "output_type": "error",
     "traceback": [
      "\u001b[0;31m---------------------------------------------------------------------------\u001b[0m",
      "\u001b[0;31mTypeError\u001b[0m                                 Traceback (most recent call last)",
      "\u001b[0;32m/var/folders/pv/b2n20c1d7sz65zl2sksm8t4r0000gn/T/ipykernel_76037/4105740011.py\u001b[0m in \u001b[0;36m<module>\u001b[0;34m\u001b[0m\n\u001b[1;32m      3\u001b[0m                             \u001b[0;34m\"But the way i see it,\"\u001b[0m \u001b[0;34m+\u001b[0m\u001b[0;34m\u001b[0m\u001b[0;34m\u001b[0m\u001b[0m\n\u001b[1;32m      4\u001b[0m                             \"you can either run from it or learn from it\")\n\u001b[0;32m----> 5\u001b[0;31m \u001b[0mraf\u001b[0m\u001b[0;34m(\u001b[0m\u001b[0;34m)\u001b[0m\u001b[0;34m\u001b[0m\u001b[0;34m\u001b[0m\u001b[0m\n\u001b[0m",
      "\u001b[0;31mTypeError\u001b[0m: raf() missing 1 required positional argument: 'lion'"
     ]
    }
   ],
   "source": [
    "def raf(lion):\n",
    "    print(lion + \" \" + \"Oh yes, the past can hurt. \" +\n",
    "                            \"But the way i see it,\" +\n",
    "                            \"you can either run from it or learn from it\")\n",
    "raf()"
   ]
  },
  {
   "cell_type": "code",
   "execution_count": 25,
   "id": "3ea7ae62",
   "metadata": {},
   "outputs": [
    {
     "name": "stdout",
     "output_type": "stream",
     "text": [
      "who are you?\n",
      "None\n"
     ]
    }
   ],
   "source": [
    "def dory(fish, mini):\n",
    "    if mini > 10:\n",
    "        print(\"who are you?\")\n",
    "print(dory(\"nemo\", 90))"
   ]
  },
  {
   "cell_type": "code",
   "execution_count": 28,
   "id": "035f6a24",
   "metadata": {},
   "outputs": [
    {
     "name": "stdout",
     "output_type": "stream",
     "text": [
      "The flower that blooms in adversity is the most rare and beutiful of all.\n"
     ]
    }
   ],
   "source": [
    "def emperor(wordA, wordB):\n",
    "    my = (\"The \" + wordB + \" that blooms in adversity is the most rare and \" +wordA+ \" of all.\")\n",
    "    return my\n",
    "print(emperor(wordB='flower',wordA='beutiful'))"
   ]
  },
  {
   "cell_type": "code",
   "execution_count": 30,
   "id": "80cd12c4",
   "metadata": {},
   "outputs": [
    {
     "name": "stdout",
     "output_type": "stream",
     "text": [
      "Ariel 16 mermaid\n"
     ]
    }
   ],
   "source": [
    "def see_character(name, age, species=\"human\"):\n",
    "    print(name,age,species)\n",
    "see_character(\"Ariel\", 16, \"mermaid\")"
   ]
  },
  {
   "cell_type": "code",
   "execution_count": null,
   "id": "5c5d09fc",
   "metadata": {},
   "outputs": [],
   "source": []
  }
 ],
 "metadata": {
  "kernelspec": {
   "display_name": "Python 3 (ipykernel)",
   "language": "python",
   "name": "python3"
  },
  "language_info": {
   "codemirror_mode": {
    "name": "ipython",
    "version": 3
   },
   "file_extension": ".py",
   "mimetype": "text/x-python",
   "name": "python",
   "nbconvert_exporter": "python",
   "pygments_lexer": "ipython3",
   "version": "3.9.7"
  }
 },
 "nbformat": 4,
 "nbformat_minor": 5
}
